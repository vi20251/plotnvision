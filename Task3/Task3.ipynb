{
 "cells": [
  {
   "cell_type": "markdown",
   "id": "513ee869-2432-4594-bb46-3cc30f1d5f7c",
   "metadata": {},
   "source": [
    "## Task 3: Spatial/Geographical Mapping (Categorical Proxy)\n",
    "\n",
    "**Instructions:**\n",
    "- Create a heatmap showing the average price of diamonds by cut (rows) and color (columns).\n",
    "\n",
    "**Reflection:**\n",
    "- How does this “spatial” arrangement help you see patterns? What would be harder to see in a table?\n"
   ]
  },
  {
   "cell_type": "code",
   "execution_count": null,
   "id": "c5c94b33-832b-4427-a5c2-dc10e90d51a4",
   "metadata": {},
   "outputs": [],
   "source": [
    "# Task 3: Your code here\n",
    "pivot = diamonds.pivot_table(index='cut', columns='color', values='price', aggfunc='mean')\n",
    "\n",
    "# Heatmap of average price\n"
   ]
  },
  {
   "cell_type": "markdown",
   "id": "ddd49ae7-bbcf-4098-a49c-81005903dc36",
   "metadata": {},
   "source": [
    "_Reflection for Task 3:_\n"
   ]
  }
 ],
 "metadata": {
  "kernelspec": {
   "display_name": "Python 3 (ipykernel)",
   "language": "python",
   "name": "python3"
  },
  "language_info": {
   "codemirror_mode": {
    "name": "ipython",
    "version": 3
   },
   "file_extension": ".py",
   "mimetype": "text/x-python",
   "name": "python",
   "nbconvert_exporter": "python",
   "pygments_lexer": "ipython3",
   "version": "3.13.5"
  }
 },
 "nbformat": 4,
 "nbformat_minor": 5
}
