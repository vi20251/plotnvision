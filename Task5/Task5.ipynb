{
 "cells": [
  {
   "cell_type": "markdown",
   "id": "40a06b14-0a44-4c32-9ae3-d12a80a07899",
   "metadata": {},
   "source": [
    "## Task 5: Perceptual Pitfalls\n",
    "\n",
    "**Instructions:**\n",
    "- Create two bar plots of average price by cut: one with a truncated y-axis and one with a zero-based y-axis.\n",
    "\n",
    "**Reflection:**\n",
    "- How does the y-axis choice affect your perception of the data? Why is this important for ethical data communication?\n"
   ]
  },
  {
   "cell_type": "code",
   "execution_count": null,
   "id": "e72ab988-77f6-4ddf-a8af-5337760dee6b",
   "metadata": {},
   "outputs": [],
   "source": [
    "# Task 5: Your code here\n",
    "fig, axs = plt.subplots(1, 2, figsize=(14, 5))\n",
    "\n",
    "# Truncated y-axis\n",
    "\n",
    "# Zero-based y-axis\n"
   ]
  },
  {
   "cell_type": "markdown",
   "id": "3ac868db-7fa0-4022-83b4-8705cafc9181",
   "metadata": {},
   "source": [
    "_Reflection for Task 5:_\n"
   ]
  }
 ],
 "metadata": {
  "kernelspec": {
   "display_name": "Python 3 (ipykernel)",
   "language": "python",
   "name": "python3"
  },
  "language_info": {
   "codemirror_mode": {
    "name": "ipython",
    "version": 3
   },
   "file_extension": ".py",
   "mimetype": "text/x-python",
   "name": "python",
   "nbconvert_exporter": "python",
   "pygments_lexer": "ipython3",
   "version": "3.13.5"
  }
 },
 "nbformat": 4,
 "nbformat_minor": 5
}
