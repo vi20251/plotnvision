{
 "cells": [
  {
   "cell_type": "markdown",
   "id": "fa516b29-7c9e-47f6-a21a-33e31ebe4430",
   "metadata": {},
   "source": [
    "## Task 4: Interactivity (Optional Bonus)\n",
    "\n",
    "**Instructions:**\n",
    "- Use Plotly (or another interactive library) to create an interactive scatter plot of carat vs. price, colored by cut.\n",
    "\n",
    "**Reflection:**\n",
    "- What insights can you gain from interacting with the plot that you might miss in a static plot?\n"
   ]
  },
  {
   "cell_type": "code",
   "execution_count": null,
   "id": "b5b14a50-a8f2-44c4-8483-c03ea863ba75",
   "metadata": {},
   "outputs": [],
   "source": [
    "# Task 4: Your code here\n",
    "import plotly.express as px\n",
    "\n",
    "sample = diamonds.sample(1000, random_state=2)\n",
    "\n",
    "# Interactive scatter plot\n"
   ]
  },
  {
   "cell_type": "markdown",
   "id": "019dc8fe-0cf6-4c2a-812c-3a482a98ec1e",
   "metadata": {},
   "source": [
    "_Reflection for Task 4:_\n"
   ]
  }
 ],
 "metadata": {
  "kernelspec": {
   "display_name": "Python 3 (ipykernel)",
   "language": "python",
   "name": "python3"
  },
  "language_info": {
   "codemirror_mode": {
    "name": "ipython",
    "version": 3
   },
   "file_extension": ".py",
   "mimetype": "text/x-python",
   "name": "python",
   "nbconvert_exporter": "python",
   "pygments_lexer": "ipython3",
   "version": "3.13.5"
  }
 },
 "nbformat": 4,
 "nbformat_minor": 5
}
