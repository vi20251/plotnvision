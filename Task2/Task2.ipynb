{
 "cells": [
  {
   "cell_type": "markdown",
   "id": "af48b46f-a911-4808-bca5-76f849c28274",
   "metadata": {},
   "source": [
    "## Task 2: Preattentive Features\n",
    "\n",
    "**Instructions:**\n",
    "- Make a scatter plot of carat vs. price for a random sample of 500 diamonds.\n",
    "- Highlight diamonds with the “Ideal” cut in a distinct color, and all others in a neutral color.\n",
    "\n",
    "**Reflection:**\n",
    "- How quickly can you spot the “Ideal” cut diamonds? Why is this important in visualization?\n"
   ]
  },
  {
   "cell_type": "code",
   "execution_count": null,
   "id": "1463eae9-c6b7-4a22-ab68-81b3adaca182",
   "metadata": {},
   "outputs": [],
   "source": [
    "# Task 2: Your code here\n",
    "import numpy as np\n",
    "\n",
    "sample = diamonds.sample(500, random_state=1)\n",
    "sample['highlight'] = np.where(sample['cut'] == 'Ideal', 'Ideal', 'Other')\n",
    "\n",
    "# Scatter plot highlighting 'Ideal' cut\n"
   ]
  },
  {
   "cell_type": "markdown",
   "id": "f1c19b47-0c44-4c30-a831-9c779bdfecdb",
   "metadata": {},
   "source": [
    "_Reflection for Task 2:_\n"
   ]
  }
 ],
 "metadata": {
  "kernelspec": {
   "display_name": "Python 3 (ipykernel)",
   "language": "python",
   "name": "python3"
  },
  "language_info": {
   "codemirror_mode": {
    "name": "ipython",
    "version": 3
   },
   "file_extension": ".py",
   "mimetype": "text/x-python",
   "name": "python",
   "nbconvert_exporter": "python",
   "pygments_lexer": "ipython3",
   "version": "3.13.5"
  }
 },
 "nbformat": 4,
 "nbformat_minor": 5
}
