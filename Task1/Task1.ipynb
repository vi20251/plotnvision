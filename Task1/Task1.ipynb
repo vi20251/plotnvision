{
 "cells": [
  {
   "cell_type": "markdown",
   "id": "6db26864-3417-464f-a054-9ef2588c9e63",
   "metadata": {},
   "source": [
    "## Task 1: Contrast & Color\n",
    "\n",
    "**Instructions:**\n",
    "- Create a bar plot showing the average price of diamonds by cut using a low-contrast color scheme.\n",
    "- Create the same plot using a high-contrast color palette.\n",
    "\n",
    "**Reflection:**\n",
    "- Which plot is easier to interpret? Why? Relate your answer to human visual perception."
   ]
  },
  {
   "cell_type": "code",
   "execution_count": null,
   "id": "a7347c7b-56b0-4692-84b8-4228dacb8a39",
   "metadata": {},
   "outputs": [],
   "source": [
    "# Task 1: Your code here\n",
    "import seaborn as sns\n",
    "import matplotlib.pyplot as plt\n",
    "\n",
    "diamonds = sns.load_dataset('diamonds')\n",
    "avg_price_by_cut = diamonds.groupby('cut')['price'].mean().reset_index()\n",
    "\n",
    "# Low-contrast plot\n",
    "\n",
    "# High-contrast plot\n"
   ]
  },
  {
   "cell_type": "markdown",
   "execution_count": null,
   "id": "163149f1-151e-41af-8472-3b3c78f1a3b3",
   "metadata": {},
   "outputs": [],
   "source": [
    "_Reflection for Task 1:_\n"
   ]
  }
 ],
 "metadata": {
  "kernelspec": {
   "display_name": "Python 3 (ipykernel)",
   "language": "python",
   "name": "python3"
  },
  "language_info": {
   "codemirror_mode": {
    "name": "ipython",
    "version": 3
   },
   "file_extension": ".py",
   "mimetype": "text/x-python",
   "name": "python",
   "nbconvert_exporter": "python",
   "pygments_lexer": "ipython3",
   "version": "3.13.5"
  }
 },
 "nbformat": 4,
 "nbformat_minor": 5
}
